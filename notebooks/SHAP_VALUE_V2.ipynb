{
 "cells": [
  {
   "cell_type": "code",
   "execution_count": 7,
   "id": "cb89ee51-81ec-4b85-ad3f-b6bec8990ecb",
   "metadata": {},
   "outputs": [
    {
     "name": "stdout",
     "output_type": "stream",
     "text": [
      "Fichiers SHAP sauvegardés avec succès.\n"
     ]
    },
    {
     "name": "stderr",
     "output_type": "stream",
     "text": [
      "C:\\Users\\alaro\\anaconda3\\envs\\scoring-env\\lib\\site-packages\\shap\\explainers\\_tree.py:583: UserWarning: LightGBM binary classifier with TreeExplainer shap values output has changed to a list of ndarray\n",
      "  warnings.warn(\n"
     ]
    }
   ],
   "source": [
    "import pandas as pd\n",
    "import numpy as np\n",
    "import shap\n",
    "import joblib\n",
    "import os\n",
    "\n",
    "# Charger le dataset de 5000 clients\n",
    "DATA_URL = \"https://huggingface.co/datasets/Antonine93/projet7scoring/resolve/main/train_subset_with_target.parquet\"\n",
    "df = pd.read_parquet(DATA_URL)\n",
    "\n",
    "# Sauvegarde des IDs clients pour les relier plus tard\n",
    "ids_clients = df[\"SK_ID_CURR\"]\n",
    "\n",
    "# Supprimer les colonnes non utilisées par le modèle\n",
    "X = df.drop(columns=[\"TARGET\", \"SK_ID_CURR\"])\n",
    "\n",
    "# Charger le modèle\n",
    "model = joblib.load(\"../model/best_model_lightgbm.pkl\")\n",
    "\n",
    "# Créer l'explainer\n",
    "explainer = shap.TreeExplainer(model)\n",
    "\n",
    "# Calculer les SHAP values\n",
    "shap_values = explainer.shap_values(X)\n",
    "\n",
    "# Prendre les valeurs pour la classe 1 (défaut)\n",
    "if isinstance(shap_values, list):\n",
    "    shap_values_to_use = shap_values[1]\n",
    "    base_value = explainer.expected_value[1]\n",
    "else:\n",
    "    shap_values_to_use = shap_values\n",
    "    base_value = explainer.expected_value\n",
    "\n",
    "# Sauver les SHAP values (par client, local)\n",
    "df_local=pd.DataFrame(shap_values_to_use)\n",
    "df_local.to_parquet(\"shap_values_clients.parquet\")\n",
    "\n",
    "# Sauver les features utilisées pour chaque client\n",
    "X.to_parquet(\"X_features_clients.parquet\")\n",
    "\n",
    "# Sauver les IDs clients associés\n",
    "ids_clients.to_csv(\"ids_clients.csv\", index=False)\n",
    "\n",
    "# Sauver le base value pour SHAP (valeur attendue)\n",
    "if np.isscalar(base_value):\n",
    "    df_base = pd.DataFrame({\"base_value\": [base_value]})\n",
    "elif isinstance(base_value, (list, np.ndarray)):\n",
    "    df_base = pd.DataFrame({\"base_value\": base_value})\n",
    "else:\n",
    "    raise ValueError(\"Format inattendu pour base_value :\", type(base_value))\n",
    "\n",
    "df_base.to_parquet(\"shap_base_value.parquet\")\n",
    "\n",
    "\n",
    "print(\"Fichiers SHAP sauvegardés avec succès.\")\n",
    "\n",
    "# Moyenne absolue des valeurs SHAP par feature (global importance)\n",
    "shap_global = pd.DataFrame({\n",
    "    \"feature\": X.columns,\n",
    "    \"importance\": np.abs(shap_values_to_use).mean(axis=0)\n",
    "}).sort_values(by=\"importance\", ascending=False)\n",
    "\n",
    "shap_global.to_parquet(\"shap_global_importance\")\n"
   ]
  },
  {
   "cell_type": "code",
   "execution_count": null,
   "id": "520fc769-728f-4cdb-a3f9-f58832144eac",
   "metadata": {},
   "outputs": [],
   "source": []
  }
 ],
 "metadata": {
  "kernelspec": {
   "display_name": "Python (scoring-env)",
   "language": "python",
   "name": "scoring-env"
  },
  "language_info": {
   "codemirror_mode": {
    "name": "ipython",
    "version": 3
   },
   "file_extension": ".py",
   "mimetype": "text/x-python",
   "name": "python",
   "nbconvert_exporter": "python",
   "pygments_lexer": "ipython3",
   "version": "3.10.16"
  }
 },
 "nbformat": 4,
 "nbformat_minor": 5
}
