{
 "cells": [
  {
   "cell_type": "code",
   "execution_count": 4,
   "id": "1c555522-726f-4b3b-9fed-7cdbc9356517",
   "metadata": {},
   "outputs": [
    {
     "name": "stdout",
     "output_type": "stream",
     "text": [
      "✅ Sous-échantillon de 5000 lignes créé et sauvegardé.\n"
     ]
    }
   ],
   "source": [
    "from sklearn.model_selection import train_test_split\n",
    "import pandas as pd\n",
    "\n",
    "# URL du dataset complet\n",
    "DATA_URL = \"https://huggingface.co/datasets/Antonine93/projet7scoring/resolve/main/train.parquet\"\n",
    "\n",
    "# Charger les données\n",
    "df = pd.read_parquet(DATA_URL)\n",
    "\n",
    "# Sous-échantillonnage stratifié (ex : 5000 lignes)\n",
    "df_subset, _ = train_test_split(\n",
    "    df,\n",
    "    train_size=5000,\n",
    "    stratify=df[\"TARGET\"],  # Garde la proportion TARGET 0/1\n",
    "    random_state=42\n",
    ")\n",
    "\n",
    "# Sauvegarde du fichier\n",
    "df_subset.to_parquet(\"train_subset_with_target.parquet\", index=False)\n",
    "\n",
    "\n",
    "print(\"✅ Sous-échantillon de 5000 lignes créé et sauvegardé.\")\n",
    "\n"
   ]
  },
  {
   "cell_type": "code",
   "execution_count": null,
   "id": "264dcd4e-245b-4051-96ec-2ca6c8f67b0e",
   "metadata": {},
   "outputs": [],
   "source": []
  }
 ],
 "metadata": {
  "kernelspec": {
   "display_name": "Python (scoring-env)",
   "language": "python",
   "name": "scoring-env"
  },
  "language_info": {
   "codemirror_mode": {
    "name": "ipython",
    "version": 3
   },
   "file_extension": ".py",
   "mimetype": "text/x-python",
   "name": "python",
   "nbconvert_exporter": "python",
   "pygments_lexer": "ipython3",
   "version": "3.10.16"
  }
 },
 "nbformat": 4,
 "nbformat_minor": 5
}
